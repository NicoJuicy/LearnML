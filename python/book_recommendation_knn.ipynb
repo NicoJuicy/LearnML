{
 "cells": [
  {
   "cell_type": "markdown",
   "metadata": {
    "cell_id": "73646f56-609c-4f7f-811b-fe36d97b1f1d",
    "deepnote_cell_type": "markdown",
    "id": "2fboDf2ygwdb"
   },
   "source": [
    "## Pandas and Modin Notebook Demo\n",
    "\n",
    "Book Recommendation Engine using KNN\n",
    "\n",
    "[Building A Book Recommender System – The Basics, kNN and Matrix Factorization](https://datascienceplus.com/building-a-book-recommender-system-the-basics-knn-and-matrix-factorization)\n"
   ]
  },
  {
   "cell_type": "markdown",
   "metadata": {
    "cell_id": "00001-7a9be829-f765-4f32-8415-3f04033bcab8",
    "deepnote_cell_type": "markdown",
    "id": "aQDbglqGmjTP"
   },
   "source": [
    "## Install Libraries"
   ]
  },
  {
   "cell_type": "code",
   "execution_count": 1,
   "metadata": {
    "cell_id": "00002-2f2f3541-9088-4ca4-8e96-e08f5dccb14b",
    "deepnote_cell_type": "code",
    "deepnote_to_be_reexecuted": false,
    "execution_millis": 34,
    "execution_start": 1644364758581,
    "source_hash": "a8ffec74",
    "tags": []
   },
   "outputs": [],
   "source": [
    "# ! pip3 list | grep pandas\n",
    "# ! pip freeze > requirements.txt\n",
    "\n",
    "# ! pip install --upgrade pip\n",
    "# ! pip install --upgrade pandas\n",
    "# ! pip install ray   # this may need to be installed first\n",
    "# ! pip install modin[ray]"
   ]
  },
  {
   "cell_type": "code",
   "execution_count": 2,
   "metadata": {
    "cell_id": "00003-296d3911-f4be-4f44-9ee6-79b4fb75edf3",
    "deepnote_cell_type": "code",
    "deepnote_to_be_reexecuted": false,
    "execution_millis": 3,
    "execution_start": 1644364758616,
    "source_hash": "6eeff6fe",
    "tags": []
   },
   "outputs": [
    {
     "name": "stdout",
     "output_type": "stream",
     "text": [
      "1.4.0\n"
     ]
    }
   ],
   "source": [
    "import pandas as pd\n",
    "print(pd.__version__)"
   ]
  },
  {
   "cell_type": "code",
   "execution_count": 3,
   "metadata": {
    "cell_id": "00004-b8a54788-e929-44d8-9117-36cbb9930223",
    "deepnote_cell_type": "code",
    "deepnote_to_be_reexecuted": false,
    "execution_millis": 3,
    "execution_start": 1644364758617,
    "id": "wxgY5L3imoAZ",
    "source_hash": "47e0ff82"
   },
   "outputs": [
    {
     "name": "stdout",
     "output_type": "stream",
     "text": [
      "Ready!\n"
     ]
    }
   ],
   "source": [
    "#! apt-get install -y ssh screen nano vim git > /dev/null\n",
    "#! pip install -U scikit-learn > /dev/null\n",
    "#! pip install numpy==1.21 > /dev/null       # restart runtime\n",
    "\n",
    "# ! pip list | grep pandas\n",
    "\n",
    "print('Ready!')"
   ]
  },
  {
   "cell_type": "markdown",
   "metadata": {
    "cell_id": "00005-446a687e-5def-480a-888c-1df7d7987048",
    "deepnote_cell_type": "markdown",
    "id": "Jyhjtvvkmzp1"
   },
   "source": [
    "## Copy Files"
   ]
  },
  {
   "cell_type": "code",
   "execution_count": 4,
   "metadata": {
    "cell_id": "00006-d2f5507c-cac9-43de-a5c6-921101e0168d",
    "colab": {
     "base_uri": "https://localhost:8080/"
    },
    "deepnote_cell_type": "code",
    "deepnote_to_be_reexecuted": false,
    "executionInfo": {
     "elapsed": 650,
     "status": "ok",
     "timestamp": 1642030459762,
     "user": {
      "displayName": "Jeff Holmes",
      "photoUrl": "https://lh3.googleusercontent.com/a-/AOh14Ggqo5MZl_HgRiMcVdAQy5DhTFc2Ko3IQ3M4rC3pSQ=s64",
      "userId": "00012835243853368614"
     },
     "user_tz": 300
    },
    "execution_millis": 3894,
    "execution_start": 1644364758617,
    "id": "TZnPA6V1m4Uy",
    "outputId": "fa5f4714-7f3f-4302-f6e8-6426f35bc57d",
    "source_hash": "186b41d5"
   },
   "outputs": [
    {
     "name": "stdout",
     "output_type": "stream",
     "text": [
      "Ready!\n"
     ]
    }
   ],
   "source": [
    "import os\n",
    "\n",
    "# GOOGLE_DRIVE=\"/datasets/google\"\n",
    "# # !ls /datasets/google\n",
    "\n",
    "# ! cp $GOOGLE_DRIVE/bash/copy.sh /work\n",
    "\n",
    "# # copy files to root\n",
    "# ! cp $GOOGLE_DRIVE/bash/.bashrc /root\n",
    "# ! cp $GOOGLE_DRIVE/bash/.bash_aliases /root\n",
    "# ! cp $GOOGLE_DRIVE/bash/.bash_functions /root\n",
    "# ! cp $GOOGLE_DRIVE/bash/.vimrc /root\n",
    "# ! cp -r $GOOGLE_DRIVE/bash/.vim /root\n",
    "\n",
    "# # create directory if not exist\n",
    "# if not os.path.exists('data'):\n",
    "#     os.makedirs('data')\n",
    "\n",
    "# # copy required files\n",
    "# #! cp $GOOGLE_DRIVE/python/*.py .\n",
    "# #! cp -r $GOOGLE_DRIVE/data/BX-CSV-Dump.zip ./data\n",
    "\n",
    "# #! unzip ./data/BX-CSV-Dump.zip\n",
    "\n",
    "print('Ready!')"
   ]
  },
  {
   "cell_type": "markdown",
   "metadata": {
    "cell_id": "00007-d1ab8c56-5429-40e3-9cf4-1f9cb99532ea",
    "deepnote_cell_type": "markdown",
    "id": "uGd4NYQX1Rf_"
   },
   "source": [
    "## KNN\n",
    "\n",
    "In this challenge, you will create a book recommendation algorithm using **K-Nearest Neighbors**.\n",
    "\n",
    "You will use the [Book-Crossings dataset](http://www2.informatik.uni-freiburg.de/~cziegler/BX/). This dataset contains 1.1 million ratings (scale of 1-10) of 270,000 books by 90,000 users. \n",
    "\n",
    "After importing and cleaning the data, use `NearestNeighbors` from `sklearn.neighbors` to develop a model that shows books that are similar to a given book. The Nearest Neighbors algorithm measures distance to determine the closeness of instances.\n",
    "\n",
    "Create a function named `get_recommends` that takes a book title (from the dataset) as an argument and returns a list of 5 similar books with their distances from the book argument.\n",
    "\n",
    "This code:\n",
    "\n",
    "`get_recommends(\"The Queen of the Damned (Vampire Chronicles (Paperback))\")`\n",
    "\n",
    "should return:\n",
    "\n",
    "```\n",
    "[\n",
    "  'The Queen of the Damned (Vampire Chronicles (Paperback))',\n",
    "  [\n",
    "    ['Catch 22', 0.793983519077301], \n",
    "    ['The Witching Hour (Lives of the Mayfair Witches)', 0.7448656558990479], \n",
    "    ['Interview with the Vampire', 0.7345068454742432],\n",
    "    ['The Tale of the Body Thief (Vampire Chronicles (Paperback))', 0.5376338362693787],\n",
    "    ['The Vampire Lestat (Vampire Chronicles, Book II)', 0.5178412199020386]\n",
    "  ]\n",
    "]\n",
    "```\n",
    "\n",
    "Notice that the data returned from `get_recommends()` is a list. The first element in the list is the book title passed in to the function. The second element in the list is a list of five more lists. Each of the five lists contains a recommended book and the distance from the recommended book to the book passed in to the function.\n",
    "\n",
    "If you graph the dataset (optional), you will notice that most books are not rated frequently. To ensure statistical significance, remove from the dataset users with less than 200 ratings and books with less than 100 ratings.\n",
    "\n",
    "The first three cells import libraries you may need and the data to use. The final cell is for testing. Write all your code in between those cells."
   ]
  },
  {
   "cell_type": "markdown",
   "metadata": {
    "cell_id": "00008-fc08714f-d0a4-4056-b01b-b3e601188827",
    "deepnote_cell_type": "markdown",
    "id": "F4eX4T8jVLwp"
   },
   "source": [
    "## Load Data"
   ]
  },
  {
   "cell_type": "code",
   "execution_count": 5,
   "metadata": {
    "cell_id": "00010-77f957d5-2d25-4950-a2fb-2968482d3a09",
    "deepnote_cell_type": "code",
    "deepnote_to_be_reexecuted": false,
    "execution_millis": 1,
    "execution_start": 1644364762492,
    "id": "L-DUFE0d65hs",
    "source_hash": "1189a8c7"
   },
   "outputs": [],
   "source": [
    "# ! mkdir books\n",
    "# ! wget http://www2.informatik.uni-freiburg.de/~cziegler/BX/BX-CSV-Dump.zip\n",
    "# ! unzip BX-CSV-Dump.zip -d ./books"
   ]
  },
  {
   "cell_type": "code",
   "execution_count": 6,
   "metadata": {},
   "outputs": [
    {
     "name": "stdout",
     "output_type": "stream",
     "text": [
      "Done!\n"
     ]
    }
   ],
   "source": [
    "import os\n",
    "import time\n",
    "import ray\n",
    "\n",
    "def ray_init():    \n",
    "    os.environ[\"MODIN_ENGINE\"] = \"ray\"\n",
    "    os.environ['MODIN_MEMORY'] = '250000000' # 250MB\n",
    "    os.environ[\"MODIN_NPARTITIONS\"] = \"2\"\n",
    "    os.environ[\"MODIN_PROGRESS_BAR\"] = \"true\"\n",
    "\n",
    "    # assert ray.is_initialized() == True\n",
    "\n",
    "    return None\n",
    "\n",
    "# ray_init()\n",
    "\n",
    "print(\"Done!\")"
   ]
  },
  {
   "cell_type": "code",
   "execution_count": 7,
   "metadata": {
    "cell_id": "00012-49796971-4b80-4b32-88db-005c98d219f6",
    "deepnote_cell_type": "code",
    "deepnote_to_be_reexecuted": false,
    "executionInfo": {
     "elapsed": 2004,
     "status": "ok",
     "timestamp": 1642033872332,
     "user": {
      "displayName": "Jeff Holmes",
      "photoUrl": "https://lh3.googleusercontent.com/a-/AOh14Ggqo5MZl_HgRiMcVdAQy5DhTFc2Ko3IQ3M4rC3pSQ=s64",
      "userId": "00012835243853368614"
     },
     "user_tz": 300
    },
    "execution_millis": 5697,
    "execution_start": 1644364762493,
    "id": "h7zUbYm4rNRL",
    "source_hash": "7c986814"
   },
   "outputs": [
    {
     "name": "stdout",
     "output_type": "stream",
     "text": [
      "books: (271376, 5)\n",
      "ratings: (1149780, 3)\n",
      "users: (278858, 3)\n"
     ]
    }
   ],
   "source": [
    "import csv\n",
    "import numpy as np\n",
    "import pandas as pd\n",
    "# import modin.pandas as pd\n",
    "import os\n",
    "import re\n",
    "import time\n",
    "import matplotlib.pyplot as plt\n",
    "\n",
    "# from pandas import option_context\n",
    "from pprint import pprint\n",
    "\n",
    "from scipy.sparse import csr_matrix\n",
    "from sklearn.neighbors import NearestNeighbors\n",
    "\n",
    "def load_data():\n",
    "    \"\"\"\n",
    "    Load the datasets\n",
    "    \"\"\"\n",
    "    books_filename = './data/BX-Books.csv'\n",
    "    ratings_filename = './data/BX-Book-Ratings.csv'\n",
    "    users_filename = './data/BX-Users.csv'\n",
    "\n",
    "    # import csv data into dataframes\n",
    "    books_df = pd.read_csv(\n",
    "        books_filename,\n",
    "        encoding = \"latin-1\",\n",
    "        sep=\";\",\n",
    "        engine='python',\n",
    "        header=0,\n",
    "        names=['isbn', 'title', 'author', 'year', 'publisher', 'image_urls', 'image_urlm', 'image_urll'],\n",
    "        usecols=['isbn', 'title', 'author', 'year', 'publisher'],\n",
    "        dtype={'isbn': 'str', 'title': 'str', 'author': 'str', 'year': 'str', 'publisher': 'str'},\n",
    "        quotechar='\"',\n",
    "        escapechar='\\\\',\n",
    "        low_memory=True, \n",
    "        memory_map=True)\n",
    "    \n",
    "    ratings_df = pd.read_csv(\n",
    "        ratings_filename,\n",
    "        encoding = \"latin-1\",\n",
    "        sep=\";\",\n",
    "        header=0,\n",
    "        names=['userid', 'isbn', 'rating'],\n",
    "        usecols=['userid', 'isbn', 'rating'],\n",
    "        dtype={'userid': 'int', 'isbn': 'str', 'rating': 'float'},\n",
    "        # quotechar='\"',\n",
    "        low_memory=True, \n",
    "        memory_map=True)\n",
    "    \n",
    "    users_df = pd.read_csv(\n",
    "        users_filename,\n",
    "        encoding = \"latin-1\",\n",
    "        sep=\";\",\n",
    "        header=0,\n",
    "        names=['userid', 'location', 'age'],\n",
    "        usecols=['userid', 'location', 'age'],\n",
    "        dtype={'userid': 'int', 'location': 'str', 'age': 'float'},\n",
    "        # quotechar='\"',\n",
    "        low_memory=True, \n",
    "        memory_map=True)\n",
    "\n",
    "    books_df.dropna(inplace=True)\n",
    "\n",
    "    print(f\"books: {books_df.shape}\")\n",
    "    print(f\"ratings: {ratings_df.shape}\")\n",
    "    print(f\"users: {users_df.shape}\")\n",
    "\n",
    "    return books_df, ratings_df, users_df\n",
    "\n",
    "books_df, ratings_df, users_df = load_data()"
   ]
  },
  {
   "cell_type": "code",
   "execution_count": 8,
   "metadata": {
    "cell_id": "0faa21e4-0d04-4567-a882-4214d2158cbc",
    "deepnote_cell_type": "code",
    "deepnote_output_heights": [
     null,
     181
    ],
    "deepnote_to_be_reexecuted": false,
    "execution_millis": 37,
    "execution_start": 1644364768219,
    "source_hash": "a82487d9",
    "tags": []
   },
   "outputs": [
    {
     "name": "stdout",
     "output_type": "stream",
     "text": [
      "(271376, 5)\n"
     ]
    },
    {
     "data": {
      "text/html": [
       "<div>\n",
       "<style scoped>\n",
       "    .dataframe tbody tr th:only-of-type {\n",
       "        vertical-align: middle;\n",
       "    }\n",
       "\n",
       "    .dataframe tbody tr th {\n",
       "        vertical-align: top;\n",
       "    }\n",
       "\n",
       "    .dataframe thead th {\n",
       "        text-align: right;\n",
       "    }\n",
       "</style>\n",
       "<table border=\"1\" class=\"dataframe\">\n",
       "  <thead>\n",
       "    <tr style=\"text-align: right;\">\n",
       "      <th></th>\n",
       "      <th>isbn</th>\n",
       "      <th>title</th>\n",
       "      <th>author</th>\n",
       "      <th>year</th>\n",
       "      <th>publisher</th>\n",
       "    </tr>\n",
       "  </thead>\n",
       "  <tbody>\n",
       "    <tr>\n",
       "      <th>0</th>\n",
       "      <td>0195153448</td>\n",
       "      <td>Classical Mythology</td>\n",
       "      <td>Mark P. O. Morford</td>\n",
       "      <td>2002</td>\n",
       "      <td>Oxford University Press</td>\n",
       "    </tr>\n",
       "    <tr>\n",
       "      <th>1</th>\n",
       "      <td>0002005018</td>\n",
       "      <td>Clara Callan</td>\n",
       "      <td>Richard Bruce Wright</td>\n",
       "      <td>2001</td>\n",
       "      <td>HarperFlamingo Canada</td>\n",
       "    </tr>\n",
       "    <tr>\n",
       "      <th>2</th>\n",
       "      <td>0060973129</td>\n",
       "      <td>Decision in Normandy</td>\n",
       "      <td>Carlo D'Este</td>\n",
       "      <td>1991</td>\n",
       "      <td>HarperPerennial</td>\n",
       "    </tr>\n",
       "    <tr>\n",
       "      <th>3</th>\n",
       "      <td>0374157065</td>\n",
       "      <td>Flu: The Story of the Great Influenza Pandemic...</td>\n",
       "      <td>Gina Bari Kolata</td>\n",
       "      <td>1999</td>\n",
       "      <td>Farrar Straus Giroux</td>\n",
       "    </tr>\n",
       "    <tr>\n",
       "      <th>4</th>\n",
       "      <td>0393045218</td>\n",
       "      <td>The Mummies of Urumchi</td>\n",
       "      <td>E. J. W. Barber</td>\n",
       "      <td>1999</td>\n",
       "      <td>W. W. Norton &amp;amp; Company</td>\n",
       "    </tr>\n",
       "  </tbody>\n",
       "</table>\n",
       "</div>"
      ],
      "text/plain": [
       "         isbn                                              title  \\\n",
       "0  0195153448                                Classical Mythology   \n",
       "1  0002005018                                       Clara Callan   \n",
       "2  0060973129                               Decision in Normandy   \n",
       "3  0374157065  Flu: The Story of the Great Influenza Pandemic...   \n",
       "4  0393045218                             The Mummies of Urumchi   \n",
       "\n",
       "                 author  year                   publisher  \n",
       "0    Mark P. O. Morford  2002     Oxford University Press  \n",
       "1  Richard Bruce Wright  2001       HarperFlamingo Canada  \n",
       "2          Carlo D'Este  1991             HarperPerennial  \n",
       "3      Gina Bari Kolata  1999        Farrar Straus Giroux  \n",
       "4       E. J. W. Barber  1999  W. W. Norton &amp; Company  "
      ]
     },
     "execution_count": 8,
     "metadata": {},
     "output_type": "execute_result"
    }
   ],
   "source": [
    "# # creating a filter for year column\n",
    "# filter = books_df['year'].str.isnumeric() == False\n",
    "\n",
    "# # print only filtered columns\n",
    "# books_filtered = books_df.where(filter).dropna()\n",
    "# print(books_filtered.shape)\n",
    "# print(books_filtered)\n",
    "\n",
    "# # fix invalid year\n",
    "# books_df.iloc[6450]['year'] = 9999\n",
    "# books_df.iloc[43665]['year'] = 9999\n",
    "# print(books_df.iloc[6450])\n",
    "\n",
    "books_df['year'] = books_df['year'].astype(int)\n",
    "print(books_df.shape)\n",
    "books_df.head()"
   ]
  },
  {
   "cell_type": "markdown",
   "metadata": {
    "cell_id": "00014-63d69149-8ec8-45bf-b71b-2182624fe6c5",
    "deepnote_cell_type": "markdown",
    "tags": []
   },
   "source": [
    "## Summary Statistics"
   ]
  },
  {
   "cell_type": "markdown",
   "metadata": {
    "cell_id": "00015-80e4ccb2-968b-43f4-a4d4-0bba74ff9c0d",
    "deepnote_cell_type": "markdown",
    "id": "vjtq2xxsshmD"
   },
   "source": [
    "### Ratings data\n",
    "\n",
    "The ratings data set provides a list of ratings that users have given to books. \n",
    "\n",
    "It includes 1,149,780 records and 3 fields: userID, ISBN, and bookRating."
   ]
  },
  {
   "cell_type": "markdown",
   "metadata": {
    "cell_id": "00016-ff13bfbd-a46b-4d97-b246-b183ef50cdbe",
    "deepnote_cell_type": "markdown",
    "id": "z1h_z-GWs6yw"
   },
   "source": [
    "The ratings are very unevenly distributed and the vast majority of ratings are 0."
   ]
  },
  {
   "cell_type": "code",
   "execution_count": 9,
   "metadata": {
    "cell_id": "00017-9cba3548-fc9d-4ffc-97c0-f106786fde84",
    "deepnote_cell_type": "code",
    "deepnote_output_heights": [
     null,
     177
    ],
    "deepnote_to_be_reexecuted": false,
    "execution_millis": 22,
    "execution_start": 1644364768263,
    "source_hash": "54b4b179",
    "tags": []
   },
   "outputs": [
    {
     "name": "stdout",
     "output_type": "stream",
     "text": [
      "(1149780, 3)\n",
      "['userid', 'isbn', 'rating']\n"
     ]
    },
    {
     "data": {
      "text/html": [
       "<div>\n",
       "<style scoped>\n",
       "    .dataframe tbody tr th:only-of-type {\n",
       "        vertical-align: middle;\n",
       "    }\n",
       "\n",
       "    .dataframe tbody tr th {\n",
       "        vertical-align: top;\n",
       "    }\n",
       "\n",
       "    .dataframe thead th {\n",
       "        text-align: right;\n",
       "    }\n",
       "</style>\n",
       "<table border=\"1\" class=\"dataframe\">\n",
       "  <thead>\n",
       "    <tr style=\"text-align: right;\">\n",
       "      <th></th>\n",
       "      <th>userid</th>\n",
       "      <th>isbn</th>\n",
       "      <th>rating</th>\n",
       "    </tr>\n",
       "  </thead>\n",
       "  <tbody>\n",
       "    <tr>\n",
       "      <th>0</th>\n",
       "      <td>276725</td>\n",
       "      <td>034545104X</td>\n",
       "      <td>0.0</td>\n",
       "    </tr>\n",
       "    <tr>\n",
       "      <th>1</th>\n",
       "      <td>276726</td>\n",
       "      <td>0155061224</td>\n",
       "      <td>5.0</td>\n",
       "    </tr>\n",
       "    <tr>\n",
       "      <th>2</th>\n",
       "      <td>276727</td>\n",
       "      <td>0446520802</td>\n",
       "      <td>0.0</td>\n",
       "    </tr>\n",
       "    <tr>\n",
       "      <th>3</th>\n",
       "      <td>276729</td>\n",
       "      <td>052165615X</td>\n",
       "      <td>3.0</td>\n",
       "    </tr>\n",
       "    <tr>\n",
       "      <th>4</th>\n",
       "      <td>276729</td>\n",
       "      <td>0521795028</td>\n",
       "      <td>6.0</td>\n",
       "    </tr>\n",
       "  </tbody>\n",
       "</table>\n",
       "</div>"
      ],
      "text/plain": [
       "   userid        isbn  rating\n",
       "0  276725  034545104X     0.0\n",
       "1  276726  0155061224     5.0\n",
       "2  276727  0446520802     0.0\n",
       "3  276729  052165615X     3.0\n",
       "4  276729  0521795028     6.0"
      ]
     },
     "execution_count": 9,
     "metadata": {},
     "output_type": "execute_result"
    }
   ],
   "source": [
    "print(ratings_df.shape)\n",
    "print(list(ratings_df.columns))\n",
    "ratings_df.head()"
   ]
  },
  {
   "cell_type": "markdown",
   "metadata": {
    "cell_id": "00018-58bc8945-3e1e-4ae8-9bd1-2ffa2e344b77",
    "deepnote_cell_type": "markdown",
    "tags": []
   },
   "source": [
    "### Ratings Distribution"
   ]
  },
  {
   "cell_type": "code",
   "execution_count": 10,
   "metadata": {
    "cell_id": "00019-d4511a99-a7bb-44f8-acb8-e1bbada16675",
    "colab": {
     "base_uri": "https://localhost:8080/",
     "height": 348
    },
    "deepnote_cell_type": "code",
    "deepnote_output_heights": [
     333,
     261
    ],
    "deepnote_to_be_reexecuted": false,
    "executionInfo": {
     "elapsed": 520,
     "status": "ok",
     "timestamp": 1642033891049,
     "user": {
      "displayName": "Jeff Holmes",
      "photoUrl": "https://lh3.googleusercontent.com/a-/AOh14Ggqo5MZl_HgRiMcVdAQy5DhTFc2Ko3IQ3M4rC3pSQ=s64",
      "userId": "00012835243853368614"
     },
     "user_tz": 300
    },
    "execution_millis": 0,
    "execution_start": 1644364768283,
    "id": "PHtWKobVs4uB",
    "outputId": "75ee878e-1453-4ffa-efa4-7bdcf443d861",
    "source_hash": "6d2d43f4"
   },
   "outputs": [],
   "source": [
    "# plt.rc(\"font\", size=15)\n",
    "# ratings_df.value_counts(sort=False).plot(kind='bar')\n",
    "# plt.title('Rating Distribution\\n')\n",
    "# plt.xlabel('Rating')\n",
    "# plt.ylabel('Count')\n",
    "# plt.savefig('ratings_dist.png', bbox_inches='tight')\n",
    "# plt.show()"
   ]
  },
  {
   "cell_type": "markdown",
   "metadata": {
    "cell_id": "00020-6413cb0a-5575-4e97-90c5-1587c57f3215",
    "deepnote_cell_type": "markdown",
    "id": "Hv6XettVtkoy"
   },
   "source": [
    "### Books data\n",
    "\n",
    "The books dataset provides book details. \n",
    "\n",
    "It includes 271,360 records and 8 fields: ISBN, title, author, publisher, etc."
   ]
  },
  {
   "cell_type": "code",
   "execution_count": 11,
   "metadata": {
    "cell_id": "00021-17b48def-6bc2-45d1-81bf-74053c80990d",
    "colab": {
     "base_uri": "https://localhost:8080/"
    },
    "deepnote_cell_type": "code",
    "deepnote_output_heights": [
     null,
     181
    ],
    "deepnote_to_be_reexecuted": false,
    "executionInfo": {
     "elapsed": 133,
     "status": "ok",
     "timestamp": 1642033893888,
     "user": {
      "displayName": "Jeff Holmes",
      "photoUrl": "https://lh3.googleusercontent.com/a-/AOh14Ggqo5MZl_HgRiMcVdAQy5DhTFc2Ko3IQ3M4rC3pSQ=s64",
      "userId": "00012835243853368614"
     },
     "user_tz": 300
    },
    "execution_millis": 3,
    "execution_start": 1644364768284,
    "id": "kQJMVPLctoDv",
    "outputId": "3670e888-89fb-4621-e23c-93e48528fc22",
    "source_hash": "5e1412d5"
   },
   "outputs": [
    {
     "name": "stdout",
     "output_type": "stream",
     "text": [
      "(271376, 5)\n",
      "['isbn', 'title', 'author', 'year', 'publisher']\n"
     ]
    },
    {
     "data": {
      "text/html": [
       "<div>\n",
       "<style scoped>\n",
       "    .dataframe tbody tr th:only-of-type {\n",
       "        vertical-align: middle;\n",
       "    }\n",
       "\n",
       "    .dataframe tbody tr th {\n",
       "        vertical-align: top;\n",
       "    }\n",
       "\n",
       "    .dataframe thead th {\n",
       "        text-align: right;\n",
       "    }\n",
       "</style>\n",
       "<table border=\"1\" class=\"dataframe\">\n",
       "  <thead>\n",
       "    <tr style=\"text-align: right;\">\n",
       "      <th></th>\n",
       "      <th>isbn</th>\n",
       "      <th>title</th>\n",
       "      <th>author</th>\n",
       "      <th>year</th>\n",
       "      <th>publisher</th>\n",
       "    </tr>\n",
       "  </thead>\n",
       "  <tbody>\n",
       "    <tr>\n",
       "      <th>0</th>\n",
       "      <td>0195153448</td>\n",
       "      <td>Classical Mythology</td>\n",
       "      <td>Mark P. O. Morford</td>\n",
       "      <td>2002</td>\n",
       "      <td>Oxford University Press</td>\n",
       "    </tr>\n",
       "    <tr>\n",
       "      <th>1</th>\n",
       "      <td>0002005018</td>\n",
       "      <td>Clara Callan</td>\n",
       "      <td>Richard Bruce Wright</td>\n",
       "      <td>2001</td>\n",
       "      <td>HarperFlamingo Canada</td>\n",
       "    </tr>\n",
       "    <tr>\n",
       "      <th>2</th>\n",
       "      <td>0060973129</td>\n",
       "      <td>Decision in Normandy</td>\n",
       "      <td>Carlo D'Este</td>\n",
       "      <td>1991</td>\n",
       "      <td>HarperPerennial</td>\n",
       "    </tr>\n",
       "    <tr>\n",
       "      <th>3</th>\n",
       "      <td>0374157065</td>\n",
       "      <td>Flu: The Story of the Great Influenza Pandemic...</td>\n",
       "      <td>Gina Bari Kolata</td>\n",
       "      <td>1999</td>\n",
       "      <td>Farrar Straus Giroux</td>\n",
       "    </tr>\n",
       "    <tr>\n",
       "      <th>4</th>\n",
       "      <td>0393045218</td>\n",
       "      <td>The Mummies of Urumchi</td>\n",
       "      <td>E. J. W. Barber</td>\n",
       "      <td>1999</td>\n",
       "      <td>W. W. Norton &amp;amp; Company</td>\n",
       "    </tr>\n",
       "  </tbody>\n",
       "</table>\n",
       "</div>"
      ],
      "text/plain": [
       "         isbn                                              title  \\\n",
       "0  0195153448                                Classical Mythology   \n",
       "1  0002005018                                       Clara Callan   \n",
       "2  0060973129                               Decision in Normandy   \n",
       "3  0374157065  Flu: The Story of the Great Influenza Pandemic...   \n",
       "4  0393045218                             The Mummies of Urumchi   \n",
       "\n",
       "                 author  year                   publisher  \n",
       "0    Mark P. O. Morford  2002     Oxford University Press  \n",
       "1  Richard Bruce Wright  2001       HarperFlamingo Canada  \n",
       "2          Carlo D'Este  1991             HarperPerennial  \n",
       "3      Gina Bari Kolata  1999        Farrar Straus Giroux  \n",
       "4       E. J. W. Barber  1999  W. W. Norton &amp; Company  "
      ]
     },
     "execution_count": 11,
     "metadata": {},
     "output_type": "execute_result"
    }
   ],
   "source": [
    "print(books_df.shape)\n",
    "print(list(books_df.columns))\n",
    "books_df.head()"
   ]
  },
  {
   "cell_type": "markdown",
   "metadata": {
    "cell_id": "00022-c1522269-dbf8-46d0-95aa-b3684ebf1589",
    "deepnote_cell_type": "markdown",
    "id": "QMelxBXCuQe_"
   },
   "source": [
    "### Users data\n",
    "\n",
    "The users dataset provides the user demographic information. It includes 278,858 records and 3 fields: user id, location, and age."
   ]
  },
  {
   "cell_type": "code",
   "execution_count": 12,
   "metadata": {
    "cell_id": "00023-a5ad9a3b-2eed-4729-b268-6c3141d81050",
    "deepnote_cell_type": "code",
    "deepnote_output_heights": [
     null,
     177
    ],
    "deepnote_to_be_reexecuted": false,
    "execution_millis": 3,
    "execution_start": 1644364768338,
    "id": "eseTGtMmupDL",
    "source_hash": "1678affa"
   },
   "outputs": [
    {
     "name": "stdout",
     "output_type": "stream",
     "text": [
      "(278858, 3)\n",
      "['userid', 'location', 'age']\n"
     ]
    },
    {
     "data": {
      "text/html": [
       "<div>\n",
       "<style scoped>\n",
       "    .dataframe tbody tr th:only-of-type {\n",
       "        vertical-align: middle;\n",
       "    }\n",
       "\n",
       "    .dataframe tbody tr th {\n",
       "        vertical-align: top;\n",
       "    }\n",
       "\n",
       "    .dataframe thead th {\n",
       "        text-align: right;\n",
       "    }\n",
       "</style>\n",
       "<table border=\"1\" class=\"dataframe\">\n",
       "  <thead>\n",
       "    <tr style=\"text-align: right;\">\n",
       "      <th></th>\n",
       "      <th>userid</th>\n",
       "      <th>location</th>\n",
       "      <th>age</th>\n",
       "    </tr>\n",
       "  </thead>\n",
       "  <tbody>\n",
       "    <tr>\n",
       "      <th>0</th>\n",
       "      <td>1</td>\n",
       "      <td>nyc, new york, usa</td>\n",
       "      <td>NaN</td>\n",
       "    </tr>\n",
       "    <tr>\n",
       "      <th>1</th>\n",
       "      <td>2</td>\n",
       "      <td>stockton, california, usa</td>\n",
       "      <td>18.0</td>\n",
       "    </tr>\n",
       "    <tr>\n",
       "      <th>2</th>\n",
       "      <td>3</td>\n",
       "      <td>moscow, yukon territory, russia</td>\n",
       "      <td>NaN</td>\n",
       "    </tr>\n",
       "    <tr>\n",
       "      <th>3</th>\n",
       "      <td>4</td>\n",
       "      <td>porto, v.n.gaia, portugal</td>\n",
       "      <td>17.0</td>\n",
       "    </tr>\n",
       "    <tr>\n",
       "      <th>4</th>\n",
       "      <td>5</td>\n",
       "      <td>farnborough, hants, united kingdom</td>\n",
       "      <td>NaN</td>\n",
       "    </tr>\n",
       "  </tbody>\n",
       "</table>\n",
       "</div>"
      ],
      "text/plain": [
       "   userid                            location   age\n",
       "0       1                  nyc, new york, usa   NaN\n",
       "1       2           stockton, california, usa  18.0\n",
       "2       3     moscow, yukon territory, russia   NaN\n",
       "3       4           porto, v.n.gaia, portugal  17.0\n",
       "4       5  farnborough, hants, united kingdom   NaN"
      ]
     },
     "execution_count": 12,
     "metadata": {},
     "output_type": "execute_result"
    }
   ],
   "source": [
    "print(users_df.shape)\n",
    "print(list(users_df.columns))\n",
    "users_df.head()"
   ]
  },
  {
   "cell_type": "markdown",
   "metadata": {
    "cell_id": "00024-37f68102-9564-4f17-973f-88288f782910",
    "deepnote_cell_type": "markdown",
    "tags": []
   },
   "source": [
    "## Exploratory Data Analysis"
   ]
  },
  {
   "cell_type": "code",
   "execution_count": 13,
   "metadata": {
    "cell_id": "00025-a214089a-6218-41c9-8882-c5774024950b",
    "deepnote_cell_type": "code",
    "deepnote_to_be_reexecuted": false,
    "execution_millis": 1437,
    "execution_start": 1644364768340,
    "source_hash": "61a11eb",
    "tags": []
   },
   "outputs": [
    {
     "name": "stdout",
     "output_type": "stream",
     "text": [
      "\n",
      "books:\n",
      "<class 'pandas.core.frame.DataFrame'>\n",
      "Int64Index: 271376 entries, 0 to 271378\n",
      "Data columns (total 5 columns):\n",
      " #   Column     Non-Null Count   Dtype \n",
      "---  ------     --------------   ----- \n",
      " 0   isbn       271376 non-null  object\n",
      " 1   title      271376 non-null  object\n",
      " 2   author     271376 non-null  object\n",
      " 3   year       271376 non-null  int64 \n",
      " 4   publisher  271376 non-null  object\n",
      "dtypes: int64(1), object(4)\n",
      "memory usage: 12.4+ MB\n",
      "None\n",
      "\n",
      "ratings:\n",
      "<class 'pandas.core.frame.DataFrame'>\n",
      "RangeIndex: 1149780 entries, 0 to 1149779\n",
      "Data columns (total 3 columns):\n",
      " #   Column  Non-Null Count    Dtype  \n",
      "---  ------  --------------    -----  \n",
      " 0   userid  1149780 non-null  int64  \n",
      " 1   isbn    1149780 non-null  object \n",
      " 2   rating  1149780 non-null  float64\n",
      "dtypes: float64(1), int64(1), object(1)\n",
      "memory usage: 26.3+ MB\n",
      "None\n",
      "\n",
      "users:\n",
      "<class 'pandas.core.frame.DataFrame'>\n",
      "RangeIndex: 278858 entries, 0 to 278857\n",
      "Data columns (total 3 columns):\n",
      " #   Column    Non-Null Count   Dtype  \n",
      "---  ------    --------------   -----  \n",
      " 0   userid    278858 non-null  int64  \n",
      " 1   location  278858 non-null  object \n",
      " 2   age       168096 non-null  float64\n",
      "dtypes: float64(1), int64(1), object(1)\n",
      "memory usage: 6.4+ MB\n",
      "None\n"
     ]
    }
   ],
   "source": [
    "# Get summary stastics\n",
    "# include string and categorical features\n",
    "# print('books:')\n",
    "# print(books_df.describe(include=['int', 'float', 'object', 'category']), \"\\n\")\n",
    "# print('\\nrantings:')\n",
    "# print(ratings_df.describe(include=['int', 'float', 'object', 'category']), \"\\n\")\n",
    "# print('\\nusers:')\n",
    "# print(users_df.describe(include=['int', 'float', 'object', 'category']), \"\\n\")\n",
    "\n",
    "# check data types\n",
    "print('\\nbooks:')\n",
    "print(books_df.info())\n",
    "print('\\nratings:')\n",
    "print(ratings_df.info())\n",
    "print('\\nusers:')\n",
    "print(users_df.info())"
   ]
  },
  {
   "cell_type": "code",
   "execution_count": 14,
   "metadata": {
    "cell_id": "00026-003e7cc5-a7f9-4550-856b-40515684dc17",
    "deepnote_cell_type": "code",
    "deepnote_to_be_reexecuted": false,
    "execution_millis": 710,
    "execution_start": 1644364769863,
    "source_hash": "f79932d4",
    "tags": []
   },
   "outputs": [
    {
     "name": "stdout",
     "output_type": "stream",
     "text": [
      "\n",
      "books:\n",
      "isbn         0\n",
      "title        0\n",
      "author       0\n",
      "year         0\n",
      "publisher    0\n",
      "dtype: int64\n",
      "\n",
      "ratings:\n",
      "userid    0\n",
      "isbn      0\n",
      "rating    0\n",
      "dtype: int64\n",
      "\n",
      "users:\n",
      "userid           0\n",
      "location         0\n",
      "age         110762\n",
      "dtype: int64\n",
      "\n",
      "duplicates:\n",
      "books: 0\n",
      "ratings: 0\n",
      "users: 0\n"
     ]
    }
   ],
   "source": [
    "# number of missing values in each column\n",
    "print('\\nbooks:')\n",
    "print(books_df.isna().sum())\n",
    "print('\\nratings:')\n",
    "print(ratings_df.isna().sum())\n",
    "print('\\nusers:')\n",
    "print(users_df.isna().sum())\n",
    "\n",
    "# check for duplicate values?\n",
    "print('\\nduplicates:')\n",
    "print(f\"books: {books_df.duplicated().sum()}\")\n",
    "print(f\"ratings: {ratings_df.duplicated().sum()}\")\n",
    "print(f\"users: {users_df.duplicated().sum()}\")\n",
    "\n",
    "# check the distribution of categorical columns\n",
    "# df[\"product_group\"].value_counts()"
   ]
  },
  {
   "cell_type": "markdown",
   "metadata": {
    "cell_id": "40e17a44-fa23-4ee5-b80a-e3a1c2f03dfe",
    "deepnote_cell_type": "markdown",
    "tags": []
   },
   "source": [
    "## Recommendations based on rating counts"
   ]
  },
  {
   "cell_type": "code",
   "execution_count": 15,
   "metadata": {
    "cell_id": "74ece8ad-68b6-4ced-bab0-e548ca3f14cf",
    "deepnote_cell_type": "code",
    "deepnote_output_heights": [
     206
    ],
    "deepnote_to_be_reexecuted": false,
    "execution_millis": 722,
    "execution_start": 1644364770615,
    "source_hash": "58119e46",
    "tags": []
   },
   "outputs": [
    {
     "data": {
      "text/html": [
       "<div>\n",
       "<style scoped>\n",
       "    .dataframe tbody tr th:only-of-type {\n",
       "        vertical-align: middle;\n",
       "    }\n",
       "\n",
       "    .dataframe tbody tr th {\n",
       "        vertical-align: top;\n",
       "    }\n",
       "\n",
       "    .dataframe thead th {\n",
       "        text-align: right;\n",
       "    }\n",
       "</style>\n",
       "<table border=\"1\" class=\"dataframe\">\n",
       "  <thead>\n",
       "    <tr style=\"text-align: right;\">\n",
       "      <th></th>\n",
       "      <th>rating</th>\n",
       "    </tr>\n",
       "    <tr>\n",
       "      <th>isbn</th>\n",
       "      <th></th>\n",
       "    </tr>\n",
       "  </thead>\n",
       "  <tbody>\n",
       "    <tr>\n",
       "      <th>0971880107</th>\n",
       "      <td>2502</td>\n",
       "    </tr>\n",
       "    <tr>\n",
       "      <th>0316666343</th>\n",
       "      <td>1295</td>\n",
       "    </tr>\n",
       "    <tr>\n",
       "      <th>0385504209</th>\n",
       "      <td>883</td>\n",
       "    </tr>\n",
       "    <tr>\n",
       "      <th>0060928336</th>\n",
       "      <td>732</td>\n",
       "    </tr>\n",
       "    <tr>\n",
       "      <th>0312195516</th>\n",
       "      <td>723</td>\n",
       "    </tr>\n",
       "  </tbody>\n",
       "</table>\n",
       "</div>"
      ],
      "text/plain": [
       "            rating\n",
       "isbn              \n",
       "0971880107    2502\n",
       "0316666343    1295\n",
       "0385504209     883\n",
       "0060928336     732\n",
       "0312195516     723"
      ]
     },
     "execution_count": 15,
     "metadata": {},
     "output_type": "execute_result"
    }
   ],
   "source": [
    "rating_count = pd.DataFrame(ratings_df.groupby('isbn')['rating'].count())\n",
    "rating_count.sort_values('rating', ascending=False).head()"
   ]
  },
  {
   "cell_type": "markdown",
   "metadata": {
    "cell_id": "34f759b6-8064-486b-b4a7-f43f8d0abbbd",
    "deepnote_cell_type": "markdown",
    "tags": []
   },
   "source": [
    "The book with ISBN “0971880107” received the most rating counts. \n",
    "\n",
    "We can find what book it is, and what books are in the top 5."
   ]
  },
  {
   "cell_type": "code",
   "execution_count": 16,
   "metadata": {
    "cell_id": "b1465cbf-10f0-4b85-a7a2-fc60f21cab04",
    "deepnote_cell_type": "code",
    "deepnote_output_heights": [
     177
    ],
    "deepnote_to_be_reexecuted": false,
    "execution_millis": 123,
    "execution_start": 1644364771280,
    "source_hash": "8a840fe8",
    "tags": []
   },
   "outputs": [
    {
     "data": {
      "text/html": [
       "<div>\n",
       "<style scoped>\n",
       "    .dataframe tbody tr th:only-of-type {\n",
       "        vertical-align: middle;\n",
       "    }\n",
       "\n",
       "    .dataframe tbody tr th {\n",
       "        vertical-align: top;\n",
       "    }\n",
       "\n",
       "    .dataframe thead th {\n",
       "        text-align: right;\n",
       "    }\n",
       "</style>\n",
       "<table border=\"1\" class=\"dataframe\">\n",
       "  <thead>\n",
       "    <tr style=\"text-align: right;\">\n",
       "      <th></th>\n",
       "      <th>isbn</th>\n",
       "      <th>title</th>\n",
       "      <th>author</th>\n",
       "      <th>year</th>\n",
       "      <th>publisher</th>\n",
       "    </tr>\n",
       "  </thead>\n",
       "  <tbody>\n",
       "    <tr>\n",
       "      <th>0</th>\n",
       "      <td>0971880107</td>\n",
       "      <td>Wild Animus</td>\n",
       "      <td>Rich Shapero</td>\n",
       "      <td>2004</td>\n",
       "      <td>Too Far</td>\n",
       "    </tr>\n",
       "    <tr>\n",
       "      <th>1</th>\n",
       "      <td>0316666343</td>\n",
       "      <td>The Lovely Bones: A Novel</td>\n",
       "      <td>Alice Sebold</td>\n",
       "      <td>2002</td>\n",
       "      <td>Little, Brown</td>\n",
       "    </tr>\n",
       "    <tr>\n",
       "      <th>2</th>\n",
       "      <td>0385504209</td>\n",
       "      <td>The Da Vinci Code</td>\n",
       "      <td>Dan Brown</td>\n",
       "      <td>2003</td>\n",
       "      <td>Doubleday</td>\n",
       "    </tr>\n",
       "    <tr>\n",
       "      <th>3</th>\n",
       "      <td>0060928336</td>\n",
       "      <td>Divine Secrets of the Ya-Ya Sisterhood: A Novel</td>\n",
       "      <td>Rebecca Wells</td>\n",
       "      <td>1997</td>\n",
       "      <td>Perennial</td>\n",
       "    </tr>\n",
       "    <tr>\n",
       "      <th>4</th>\n",
       "      <td>0312195516</td>\n",
       "      <td>The Red Tent (Bestselling Backlist)</td>\n",
       "      <td>Anita Diamant</td>\n",
       "      <td>1998</td>\n",
       "      <td>Picador USA</td>\n",
       "    </tr>\n",
       "  </tbody>\n",
       "</table>\n",
       "</div>"
      ],
      "text/plain": [
       "         isbn                                            title         author  \\\n",
       "0  0971880107                                      Wild Animus   Rich Shapero   \n",
       "1  0316666343                        The Lovely Bones: A Novel   Alice Sebold   \n",
       "2  0385504209                                The Da Vinci Code      Dan Brown   \n",
       "3  0060928336  Divine Secrets of the Ya-Ya Sisterhood: A Novel  Rebecca Wells   \n",
       "4  0312195516              The Red Tent (Bestselling Backlist)  Anita Diamant   \n",
       "\n",
       "   year      publisher  \n",
       "0  2004        Too Far  \n",
       "1  2002  Little, Brown  \n",
       "2  2003      Doubleday  \n",
       "3  1997      Perennial  \n",
       "4  1998    Picador USA  "
      ]
     },
     "execution_count": 16,
     "metadata": {},
     "output_type": "execute_result"
    }
   ],
   "source": [
    "most_rated_books = pd.DataFrame(['0971880107', '0316666343', '0385504209', '0060928336', '0312195516'], \n",
    "                                index=np.arange(5), \n",
    "                                columns = ['isbn'])\n",
    "most_rated_books_summary = pd.merge(most_rated_books, books_df, on='isbn')\n",
    "most_rated_books_summary"
   ]
  },
  {
   "cell_type": "markdown",
   "metadata": {
    "cell_id": "ba474b28-2bfb-49a2-9d83-07ebfc46f6e6",
    "deepnote_cell_type": "markdown",
    "tags": []
   },
   "source": [
    "The book that received the most rating counts in this data set is Rich Shapero’s “Wild Animus”.\n",
    "\n",
    "Thus, there is something in common among these five books that received the most rating counts — they are all novels. \n",
    "\n",
    "The recommender suggests that novels are popular and likely receive more ratings. \n",
    "\n",
    "If someone likes “The Lovely Bones: A Novel”, we should probably also recommend to him(or her) “Wild Animus”."
   ]
  },
  {
   "cell_type": "markdown",
   "metadata": {
    "cell_id": "8e47cfde-7026-449f-aa6b-46740291cc4d",
    "deepnote_cell_type": "markdown",
    "tags": []
   },
   "source": [
    "## Recommendations based on correlations\n",
    "\n",
    "We use Pearsons’R correlation coefficient to measure the linear correlation between two variables, in our case, the ratings for two books.\n",
    "\n",
    "First, we need to find out the average rating, and the number of ratings each book received.\n"
   ]
  },
  {
   "cell_type": "code",
   "execution_count": 17,
   "metadata": {
    "cell_id": "a16df20e-0b49-4a4a-9690-a585493d5a33",
    "deepnote_cell_type": "code",
    "deepnote_output_heights": [
     206
    ],
    "deepnote_to_be_reexecuted": false,
    "execution_millis": 1307,
    "execution_start": 1644364771438,
    "source_hash": "45e4fbf3",
    "tags": []
   },
   "outputs": [
    {
     "data": {
      "text/html": [
       "<div>\n",
       "<style scoped>\n",
       "    .dataframe tbody tr th:only-of-type {\n",
       "        vertical-align: middle;\n",
       "    }\n",
       "\n",
       "    .dataframe tbody tr th {\n",
       "        vertical-align: top;\n",
       "    }\n",
       "\n",
       "    .dataframe thead th {\n",
       "        text-align: right;\n",
       "    }\n",
       "</style>\n",
       "<table border=\"1\" class=\"dataframe\">\n",
       "  <thead>\n",
       "    <tr style=\"text-align: right;\">\n",
       "      <th></th>\n",
       "      <th>rating</th>\n",
       "      <th>rating_count</th>\n",
       "    </tr>\n",
       "    <tr>\n",
       "      <th>isbn</th>\n",
       "      <th></th>\n",
       "      <th></th>\n",
       "    </tr>\n",
       "  </thead>\n",
       "  <tbody>\n",
       "    <tr>\n",
       "      <th>0971880107</th>\n",
       "      <td>1.019584</td>\n",
       "      <td>2502</td>\n",
       "    </tr>\n",
       "    <tr>\n",
       "      <th>0316666343</th>\n",
       "      <td>4.468726</td>\n",
       "      <td>1295</td>\n",
       "    </tr>\n",
       "    <tr>\n",
       "      <th>0385504209</th>\n",
       "      <td>4.652322</td>\n",
       "      <td>883</td>\n",
       "    </tr>\n",
       "    <tr>\n",
       "      <th>0060928336</th>\n",
       "      <td>3.448087</td>\n",
       "      <td>732</td>\n",
       "    </tr>\n",
       "    <tr>\n",
       "      <th>0312195516</th>\n",
       "      <td>4.334716</td>\n",
       "      <td>723</td>\n",
       "    </tr>\n",
       "  </tbody>\n",
       "</table>\n",
       "</div>"
      ],
      "text/plain": [
       "              rating  rating_count\n",
       "isbn                              \n",
       "0971880107  1.019584          2502\n",
       "0316666343  4.468726          1295\n",
       "0385504209  4.652322           883\n",
       "0060928336  3.448087           732\n",
       "0312195516  4.334716           723"
      ]
     },
     "execution_count": 17,
     "metadata": {},
     "output_type": "execute_result"
    }
   ],
   "source": [
    "average_rating = pd.DataFrame(ratings_df.groupby('isbn')['rating'].mean())\n",
    "average_rating['rating_count'] = pd.DataFrame(ratings_df.groupby('isbn')['rating'].count())\n",
    "average_rating.sort_values('rating_count', ascending=False).head()"
   ]
  },
  {
   "cell_type": "markdown",
   "metadata": {
    "cell_id": "335e29d8-cc40-4f99-8613-aebe007e10cb",
    "deepnote_cell_type": "markdown",
    "tags": []
   },
   "source": [
    "In this data set, the book that received the most rating counts was not highly rated at all. \n",
    "\n",
    "Thus, if we were to use recommendations based on rating counts, we would definitely make mistakes here. So, we need to have a better system.\n",
    "\n"
   ]
  },
  {
   "cell_type": "markdown",
   "metadata": {
    "cell_id": "00027-193cb515-3011-4ba4-9413-ceb255ffc151",
    "deepnote_cell_type": "markdown",
    "tags": []
   },
   "source": [
    "### Filter Data\n",
    "\n",
    "To ensure statistical significance, users with less than 200 ratings, and books with less than 100 ratings are excluded."
   ]
  },
  {
   "cell_type": "code",
   "execution_count": 18,
   "metadata": {
    "cell_id": "ea1046d7-714f-4e74-beb7-f7e0cde35137",
    "deepnote_cell_type": "code",
    "deepnote_output_heights": [
     null,
     322
    ],
    "deepnote_to_be_reexecuted": false,
    "execution_millis": 150,
    "execution_start": 1644364772789,
    "source_hash": "a3dec19f",
    "tags": []
   },
   "outputs": [
    {
     "name": "stdout",
     "output_type": "stream",
     "text": [
      "(527556, 3)\n"
     ]
    },
    {
     "data": {
      "text/html": [
       "<div>\n",
       "<style scoped>\n",
       "    .dataframe tbody tr th:only-of-type {\n",
       "        vertical-align: middle;\n",
       "    }\n",
       "\n",
       "    .dataframe tbody tr th {\n",
       "        vertical-align: top;\n",
       "    }\n",
       "\n",
       "    .dataframe thead th {\n",
       "        text-align: right;\n",
       "    }\n",
       "</style>\n",
       "<table border=\"1\" class=\"dataframe\">\n",
       "  <thead>\n",
       "    <tr style=\"text-align: right;\">\n",
       "      <th></th>\n",
       "      <th>userid</th>\n",
       "      <th>isbn</th>\n",
       "      <th>rating</th>\n",
       "    </tr>\n",
       "  </thead>\n",
       "  <tbody>\n",
       "    <tr>\n",
       "      <th>1456</th>\n",
       "      <td>277427</td>\n",
       "      <td>002542730X</td>\n",
       "      <td>10.0</td>\n",
       "    </tr>\n",
       "    <tr>\n",
       "      <th>1457</th>\n",
       "      <td>277427</td>\n",
       "      <td>0026217457</td>\n",
       "      <td>0.0</td>\n",
       "    </tr>\n",
       "    <tr>\n",
       "      <th>1458</th>\n",
       "      <td>277427</td>\n",
       "      <td>003008685X</td>\n",
       "      <td>8.0</td>\n",
       "    </tr>\n",
       "    <tr>\n",
       "      <th>1459</th>\n",
       "      <td>277427</td>\n",
       "      <td>0030615321</td>\n",
       "      <td>0.0</td>\n",
       "    </tr>\n",
       "    <tr>\n",
       "      <th>1460</th>\n",
       "      <td>277427</td>\n",
       "      <td>0060002050</td>\n",
       "      <td>0.0</td>\n",
       "    </tr>\n",
       "    <tr>\n",
       "      <th>1461</th>\n",
       "      <td>277427</td>\n",
       "      <td>0060006641</td>\n",
       "      <td>10.0</td>\n",
       "    </tr>\n",
       "    <tr>\n",
       "      <th>1462</th>\n",
       "      <td>277427</td>\n",
       "      <td>0060159685</td>\n",
       "      <td>0.0</td>\n",
       "    </tr>\n",
       "    <tr>\n",
       "      <th>1463</th>\n",
       "      <td>277427</td>\n",
       "      <td>0060177721</td>\n",
       "      <td>0.0</td>\n",
       "    </tr>\n",
       "    <tr>\n",
       "      <th>1464</th>\n",
       "      <td>277427</td>\n",
       "      <td>0060192704</td>\n",
       "      <td>0.0</td>\n",
       "    </tr>\n",
       "    <tr>\n",
       "      <th>1465</th>\n",
       "      <td>277427</td>\n",
       "      <td>0060542128</td>\n",
       "      <td>7.0</td>\n",
       "    </tr>\n",
       "  </tbody>\n",
       "</table>\n",
       "</div>"
      ],
      "text/plain": [
       "      userid        isbn  rating\n",
       "1456  277427  002542730X    10.0\n",
       "1457  277427  0026217457     0.0\n",
       "1458  277427  003008685X     8.0\n",
       "1459  277427  0030615321     0.0\n",
       "1460  277427  0060002050     0.0\n",
       "1461  277427  0060006641    10.0\n",
       "1462  277427  0060159685     0.0\n",
       "1463  277427  0060177721     0.0\n",
       "1464  277427  0060192704     0.0\n",
       "1465  277427  0060542128     7.0"
      ]
     },
     "execution_count": 18,
     "metadata": {},
     "output_type": "execute_result"
    }
   ],
   "source": [
    "ratings = ratings_df.copy()\n",
    "counts1 = ratings['userid'].value_counts()\n",
    "ratings = ratings[ratings['userid'].isin(counts1[counts1 >= 200].index)]\n",
    "counts = ratings['rating'].value_counts()\n",
    "ratings = ratings[ratings['rating'].isin(counts[counts >= 100].index)]\n",
    "print(ratings.shape)\n",
    "ratings.head(10)"
   ]
  },
  {
   "cell_type": "markdown",
   "metadata": {
    "cell_id": "852bbb79-40dc-4929-82f3-ae997f2217dc",
    "deepnote_cell_type": "markdown",
    "tags": []
   },
   "source": [
    "### Ratings Matrix\n",
    "\n",
    "We convert the ratings table to a 2D matrix. \n",
    "\n",
    "The matrix will be sparse because not every user rated every book."
   ]
  },
  {
   "cell_type": "code",
   "execution_count": null,
   "metadata": {
    "cell_id": "be314a80-41fb-4e6b-b277-271a4063af1d",
    "deepnote_cell_type": "code",
    "deepnote_output_heights": [
     null,
     241
    ],
    "deepnote_to_be_reexecuted": false,
    "execution_millis": 1358,
    "execution_start": 1644364772934,
    "source_hash": "f432d847",
    "tags": []
   },
   "outputs": [],
   "source": [
    "# This code sample crashes notebook kernel using modin\n",
    "# ratings_pivot = ratings.pivot(index='userid', columns='isbn').rating\n",
    "# userid = ratings_pivot.index\n",
    "# isbn = ratings_pivot.columns\n",
    "# print(ratings_pivot.shape)\n",
    "# ratings_pivot.head()"
   ]
  },
  {
   "cell_type": "markdown",
   "metadata": {
    "cell_id": "4ea29d61-9448-4d2b-b831-cf32304cc6ac",
    "deepnote_cell_type": "markdown",
    "tags": []
   },
   "source": [
    "We can find out which books are correlated with the 2nd most rated book “The Lovely Bones: A Novel”."
   ]
  },
  {
   "cell_type": "code",
   "execution_count": 20,
   "metadata": {
    "cell_id": "4b26d597-9a40-4109-8ffa-8b24c9376a42",
    "deepnote_cell_type": "code",
    "deepnote_output_heights": [
     null,
     351
    ],
    "deepnote_to_be_reexecuted": false,
    "execution_millis": 40530,
    "execution_start": 1644364774306,
    "source_hash": "c7dd1c2b",
    "tags": []
   },
   "outputs": [],
   "source": [
    "# bones_ratings = ratings_pivot['0316666343']\n",
    "# similar_to_bones = ratings_pivot.corrwith(bones_ratings)\n",
    "# corr_bones = pd.DataFrame(similar_to_bones, columns=['pearsonR'])\n",
    "# corr_bones.dropna(inplace=True)\n",
    "# corr_summary = corr_bones.join(average_rating['rating_count'])\n",
    "# corr_summary[corr_summary['rating_count']>=300].sort_values('pearsonR', ascending=False).head(10)"
   ]
  },
  {
   "cell_type": "markdown",
   "metadata": {
    "cell_id": "522a640d-4ef8-46fb-bd61-1d2683f51ed3",
    "deepnote_cell_type": "markdown",
    "tags": []
   },
   "source": [
    "We obtained the book ISBNs but we need to find out the titles of the books to see whether they make sense."
   ]
  },
  {
   "cell_type": "code",
   "execution_count": 21,
   "metadata": {
    "cell_id": "57a9ce23-8ff5-49eb-b639-48b93a1cfd37",
    "deepnote_cell_type": "code",
    "deepnote_output_heights": [
     293
    ],
    "deepnote_to_be_reexecuted": false,
    "execution_millis": 114,
    "execution_start": 1644364814835,
    "source_hash": "c5a0388",
    "tags": []
   },
   "outputs": [],
   "source": [
    "# books_corr_to_bones = pd.DataFrame(['0312291639', '0316601950', '0446610038', '0446672211', '0385265700', '0345342968', '0060930535', '0375707972', '0684872153'], \n",
    "#                                   index=np.arange(9), columns=['isbn'])\n",
    "# corr_books = pd.merge(books_corr_to_bones, books_df, on='isbn')\n",
    "# corr_books"
   ]
  },
  {
   "cell_type": "markdown",
   "metadata": {
    "cell_id": "0cac68cf-f188-47f3-8651-2c4c24df396f",
    "deepnote_cell_type": "markdown",
    "tags": []
   },
   "source": [
    "## Collaborative Filtering using k-Nearest Neighbors (kNN)\n",
    "\n",
    "kNN is a machine learning algorithm to find clusters of similar users based on common book ratings, and make predictions using the average rating of top-k nearest neighbors. For example, we first present ratings in a matrix with the matrix having one row for each item (book) and one column for each user."
   ]
  },
  {
   "cell_type": "markdown",
   "metadata": {
    "cell_id": "2e416335-9d03-4cb7-bc63-994e6f82165e",
    "deepnote_cell_type": "markdown",
    "tags": []
   },
   "source": [
    "We find the k item that has the most similar user engagement vectors. Here, Nearest Neighbors of item id 5= [7, 4, 8, …]. \n",
    "\n",
    "Now, we can implement kNN into our book recommender system.\n",
    "\n",
    "Starting from the original data set, we will be only looking at the popular books. \n",
    "\n",
    "In order to find out which books are popular, we combine books data with ratings data."
   ]
  },
  {
   "cell_type": "code",
   "execution_count": 22,
   "metadata": {
    "cell_id": "00029-0526b3e2-3866-4a63-baf8-cebcd99d0ee9",
    "colab": {
     "base_uri": "https://localhost:8080/",
     "height": 204
    },
    "deepnote_cell_type": "code",
    "deepnote_output_heights": [
     177
    ],
    "deepnote_table_loading": false,
    "deepnote_table_state": {
     "filters": [],
     "pageIndex": 0,
     "pageSize": 25,
     "sortBy": []
    },
    "deepnote_to_be_reexecuted": false,
    "executionInfo": {
     "elapsed": 533,
     "status": "ok",
     "timestamp": 1642033877375,
     "user": {
      "displayName": "Jeff Holmes",
      "photoUrl": "https://lh3.googleusercontent.com/a-/AOh14Ggqo5MZl_HgRiMcVdAQy5DhTFc2Ko3IQ3M4rC3pSQ=s64",
      "userId": "00012835243853368614"
     },
     "user_tz": 300
    },
    "execution_millis": 616,
    "execution_start": 1644364814950,
    "id": "q0Fxy1V7nzrT",
    "outputId": "129a5308-2f9c-4933-d772-e5d961e31dc7",
    "source_hash": "6c999c47"
   },
   "outputs": [
    {
     "data": {
      "text/html": [
       "<div>\n",
       "<style scoped>\n",
       "    .dataframe tbody tr th:only-of-type {\n",
       "        vertical-align: middle;\n",
       "    }\n",
       "\n",
       "    .dataframe tbody tr th {\n",
       "        vertical-align: top;\n",
       "    }\n",
       "\n",
       "    .dataframe thead th {\n",
       "        text-align: right;\n",
       "    }\n",
       "</style>\n",
       "<table border=\"1\" class=\"dataframe\">\n",
       "  <thead>\n",
       "    <tr style=\"text-align: right;\">\n",
       "      <th></th>\n",
       "      <th>userid</th>\n",
       "      <th>isbn</th>\n",
       "      <th>rating</th>\n",
       "      <th>title</th>\n",
       "    </tr>\n",
       "  </thead>\n",
       "  <tbody>\n",
       "    <tr>\n",
       "      <th>0</th>\n",
       "      <td>277427</td>\n",
       "      <td>002542730X</td>\n",
       "      <td>10.0</td>\n",
       "      <td>Politically Correct Bedtime Stories: Modern Ta...</td>\n",
       "    </tr>\n",
       "    <tr>\n",
       "      <th>1</th>\n",
       "      <td>3363</td>\n",
       "      <td>002542730X</td>\n",
       "      <td>0.0</td>\n",
       "      <td>Politically Correct Bedtime Stories: Modern Ta...</td>\n",
       "    </tr>\n",
       "    <tr>\n",
       "      <th>2</th>\n",
       "      <td>11676</td>\n",
       "      <td>002542730X</td>\n",
       "      <td>6.0</td>\n",
       "      <td>Politically Correct Bedtime Stories: Modern Ta...</td>\n",
       "    </tr>\n",
       "    <tr>\n",
       "      <th>3</th>\n",
       "      <td>12538</td>\n",
       "      <td>002542730X</td>\n",
       "      <td>10.0</td>\n",
       "      <td>Politically Correct Bedtime Stories: Modern Ta...</td>\n",
       "    </tr>\n",
       "    <tr>\n",
       "      <th>4</th>\n",
       "      <td>13552</td>\n",
       "      <td>002542730X</td>\n",
       "      <td>0.0</td>\n",
       "      <td>Politically Correct Bedtime Stories: Modern Ta...</td>\n",
       "    </tr>\n",
       "  </tbody>\n",
       "</table>\n",
       "</div>"
      ],
      "text/plain": [
       "   userid        isbn  rating  \\\n",
       "0  277427  002542730X    10.0   \n",
       "1    3363  002542730X     0.0   \n",
       "2   11676  002542730X     6.0   \n",
       "3   12538  002542730X    10.0   \n",
       "4   13552  002542730X     0.0   \n",
       "\n",
       "                                               title  \n",
       "0  Politically Correct Bedtime Stories: Modern Ta...  \n",
       "1  Politically Correct Bedtime Stories: Modern Ta...  \n",
       "2  Politically Correct Bedtime Stories: Modern Ta...  \n",
       "3  Politically Correct Bedtime Stories: Modern Ta...  \n",
       "4  Politically Correct Bedtime Stories: Modern Ta...  "
      ]
     },
     "execution_count": 22,
     "metadata": {},
     "output_type": "execute_result"
    }
   ],
   "source": [
    "# Combine books data with ratings data\n",
    "combine_book_rating = pd.merge(ratings, books_df, on='isbn')\n",
    "columns = ['year', 'publisher', 'author']\n",
    "combine_book_rating = combine_book_rating.drop(columns, axis=1)\n",
    "combine_book_rating.head()"
   ]
  },
  {
   "cell_type": "markdown",
   "metadata": {
    "cell_id": "a1511d76-6e55-4263-a8f3-54d78819ba2e",
    "deepnote_cell_type": "markdown",
    "tags": []
   },
   "source": [
    "We then group by book titles and create a new column for total rating count."
   ]
  },
  {
   "cell_type": "code",
   "execution_count": 23,
   "metadata": {
    "cell_id": "00030-fb5c4168-1cba-4644-ba70-05e96032821e",
    "colab": {
     "base_uri": "https://localhost:8080/",
     "height": 204
    },
    "deepnote_cell_type": "code",
    "deepnote_output_heights": [
     177
    ],
    "deepnote_to_be_reexecuted": false,
    "executionInfo": {
     "elapsed": 549,
     "status": "ok",
     "timestamp": 1642033879708,
     "user": {
      "displayName": "Jeff Holmes",
      "photoUrl": "https://lh3.googleusercontent.com/a-/AOh14Ggqo5MZl_HgRiMcVdAQy5DhTFc2Ko3IQ3M4rC3pSQ=s64",
      "userId": "00012835243853368614"
     },
     "user_tz": 300
    },
    "execution_millis": 580,
    "execution_start": 1644364815572,
    "id": "AVStQWpwraz8",
    "outputId": "5aacba51-66ca-453f-fbcf-3d5c48e5e909",
    "source_hash": "e5b11024"
   },
   "outputs": [
    {
     "data": {
      "text/html": [
       "<div>\n",
       "<style scoped>\n",
       "    .dataframe tbody tr th:only-of-type {\n",
       "        vertical-align: middle;\n",
       "    }\n",
       "\n",
       "    .dataframe tbody tr th {\n",
       "        vertical-align: top;\n",
       "    }\n",
       "\n",
       "    .dataframe thead th {\n",
       "        text-align: right;\n",
       "    }\n",
       "</style>\n",
       "<table border=\"1\" class=\"dataframe\">\n",
       "  <thead>\n",
       "    <tr style=\"text-align: right;\">\n",
       "      <th></th>\n",
       "      <th>title</th>\n",
       "      <th>total_rating_count</th>\n",
       "    </tr>\n",
       "  </thead>\n",
       "  <tbody>\n",
       "    <tr>\n",
       "      <th>0</th>\n",
       "      <td>A Light in the Storm: The Civil War Diary of ...</td>\n",
       "      <td>2</td>\n",
       "    </tr>\n",
       "    <tr>\n",
       "      <th>1</th>\n",
       "      <td>Always Have Popsicles</td>\n",
       "      <td>1</td>\n",
       "    </tr>\n",
       "    <tr>\n",
       "      <th>2</th>\n",
       "      <td>Apple Magic (The Collector's series)</td>\n",
       "      <td>1</td>\n",
       "    </tr>\n",
       "    <tr>\n",
       "      <th>3</th>\n",
       "      <td>Beyond IBM: Leadership Marketing and Finance ...</td>\n",
       "      <td>1</td>\n",
       "    </tr>\n",
       "    <tr>\n",
       "      <th>4</th>\n",
       "      <td>Clifford Visita El Hospital (Clifford El Gran...</td>\n",
       "      <td>1</td>\n",
       "    </tr>\n",
       "  </tbody>\n",
       "</table>\n",
       "</div>"
      ],
      "text/plain": [
       "                                               title  total_rating_count\n",
       "0   A Light in the Storm: The Civil War Diary of ...                   2\n",
       "1                              Always Have Popsicles                   1\n",
       "2               Apple Magic (The Collector's series)                   1\n",
       "3   Beyond IBM: Leadership Marketing and Finance ...                   1\n",
       "4   Clifford Visita El Hospital (Clifford El Gran...                   1"
      ]
     },
     "execution_count": 23,
     "metadata": {},
     "output_type": "execute_result"
    }
   ],
   "source": [
    "combine_book_rating = combine_book_rating.dropna(axis=0, subset=['title'])\n",
    "\n",
    "# TypeError: 'PandasOnRayDataframePartition' object is not iterable\n",
    "book_rating_count = (combine_book_rating.\n",
    "     groupby(by = ['title'])['rating'].\n",
    "     count().\n",
    "     reset_index().\n",
    "     rename(columns = {'rating': 'total_rating_count'})\n",
    "     [['title', 'total_rating_count']]\n",
    "    )\n",
    "\n",
    "book_rating_count.head()"
   ]
  },
  {
   "cell_type": "markdown",
   "metadata": {
    "cell_id": "aa194e57-4351-4821-b956-a3f48c0a6189",
    "deepnote_cell_type": "markdown",
    "tags": []
   },
   "source": [
    "We combine the rating data with the total rating count data.\n",
    "\n",
    "This gives us exactly what we need to find out which books are popular and filter out lesser-known books.\n",
    "\n"
   ]
  },
  {
   "cell_type": "code",
   "execution_count": 24,
   "metadata": {
    "cell_id": "00031-bb7012a9-7dc2-4e89-92fd-dc83fdd0b1f5",
    "colab": {
     "base_uri": "https://localhost:8080/",
     "height": 204
    },
    "deepnote_cell_type": "code",
    "deepnote_output_heights": [
     177
    ],
    "deepnote_to_be_reexecuted": false,
    "executionInfo": {
     "elapsed": 491,
     "status": "ok",
     "timestamp": 1642033882076,
     "user": {
      "displayName": "Jeff Holmes",
      "photoUrl": "https://lh3.googleusercontent.com/a-/AOh14Ggqo5MZl_HgRiMcVdAQy5DhTFc2Ko3IQ3M4rC3pSQ=s64",
      "userId": "00012835243853368614"
     },
     "user_tz": 300
    },
    "execution_millis": 301,
    "execution_start": 1644364816156,
    "id": "jjA6DLUnPqoX",
    "outputId": "a67a35e5-4168-4099-ba8e-a65925d1c012",
    "source_hash": "ef208fd5"
   },
   "outputs": [
    {
     "data": {
      "text/html": [
       "<div>\n",
       "<style scoped>\n",
       "    .dataframe tbody tr th:only-of-type {\n",
       "        vertical-align: middle;\n",
       "    }\n",
       "\n",
       "    .dataframe tbody tr th {\n",
       "        vertical-align: top;\n",
       "    }\n",
       "\n",
       "    .dataframe thead th {\n",
       "        text-align: right;\n",
       "    }\n",
       "</style>\n",
       "<table border=\"1\" class=\"dataframe\">\n",
       "  <thead>\n",
       "    <tr style=\"text-align: right;\">\n",
       "      <th></th>\n",
       "      <th>userid</th>\n",
       "      <th>isbn</th>\n",
       "      <th>rating</th>\n",
       "      <th>title</th>\n",
       "      <th>total_rating_count</th>\n",
       "    </tr>\n",
       "  </thead>\n",
       "  <tbody>\n",
       "    <tr>\n",
       "      <th>0</th>\n",
       "      <td>277427</td>\n",
       "      <td>002542730X</td>\n",
       "      <td>10.0</td>\n",
       "      <td>Politically Correct Bedtime Stories: Modern Ta...</td>\n",
       "      <td>82</td>\n",
       "    </tr>\n",
       "    <tr>\n",
       "      <th>1</th>\n",
       "      <td>3363</td>\n",
       "      <td>002542730X</td>\n",
       "      <td>0.0</td>\n",
       "      <td>Politically Correct Bedtime Stories: Modern Ta...</td>\n",
       "      <td>82</td>\n",
       "    </tr>\n",
       "    <tr>\n",
       "      <th>2</th>\n",
       "      <td>11676</td>\n",
       "      <td>002542730X</td>\n",
       "      <td>6.0</td>\n",
       "      <td>Politically Correct Bedtime Stories: Modern Ta...</td>\n",
       "      <td>82</td>\n",
       "    </tr>\n",
       "    <tr>\n",
       "      <th>3</th>\n",
       "      <td>12538</td>\n",
       "      <td>002542730X</td>\n",
       "      <td>10.0</td>\n",
       "      <td>Politically Correct Bedtime Stories: Modern Ta...</td>\n",
       "      <td>82</td>\n",
       "    </tr>\n",
       "    <tr>\n",
       "      <th>4</th>\n",
       "      <td>13552</td>\n",
       "      <td>002542730X</td>\n",
       "      <td>0.0</td>\n",
       "      <td>Politically Correct Bedtime Stories: Modern Ta...</td>\n",
       "      <td>82</td>\n",
       "    </tr>\n",
       "  </tbody>\n",
       "</table>\n",
       "</div>"
      ],
      "text/plain": [
       "   userid        isbn  rating  \\\n",
       "0  277427  002542730X    10.0   \n",
       "1    3363  002542730X     0.0   \n",
       "2   11676  002542730X     6.0   \n",
       "3   12538  002542730X    10.0   \n",
       "4   13552  002542730X     0.0   \n",
       "\n",
       "                                               title  total_rating_count  \n",
       "0  Politically Correct Bedtime Stories: Modern Ta...                  82  \n",
       "1  Politically Correct Bedtime Stories: Modern Ta...                  82  \n",
       "2  Politically Correct Bedtime Stories: Modern Ta...                  82  \n",
       "3  Politically Correct Bedtime Stories: Modern Ta...                  82  \n",
       "4  Politically Correct Bedtime Stories: Modern Ta...                  82  "
      ]
     },
     "execution_count": 24,
     "metadata": {},
     "output_type": "execute_result"
    }
   ],
   "source": [
    "rating_with_total_count = combine_book_rating.merge(book_rating_count, left_on='title', right_on='title', how='left')\n",
    "rating_with_total_count.head()"
   ]
  },
  {
   "cell_type": "markdown",
   "metadata": {
    "cell_id": "27cf425d-721d-44e4-a7fd-146afaa1eb04",
    "deepnote_cell_type": "markdown",
    "tags": []
   },
   "source": [
    " We can view the statistics of total rating count."
   ]
  },
  {
   "cell_type": "code",
   "execution_count": 25,
   "metadata": {
    "cell_id": "00032-959525ff-064c-4de3-861e-3596a8964024",
    "colab": {
     "base_uri": "https://localhost:8080/"
    },
    "deepnote_cell_type": "code",
    "deepnote_to_be_reexecuted": false,
    "executionInfo": {
     "elapsed": 140,
     "status": "ok",
     "timestamp": 1642033884517,
     "user": {
      "displayName": "Jeff Holmes",
      "photoUrl": "https://lh3.googleusercontent.com/a-/AOh14Ggqo5MZl_HgRiMcVdAQy5DhTFc2Ko3IQ3M4rC3pSQ=s64",
      "userId": "00012835243853368614"
     },
     "user_tz": 300
    },
    "execution_millis": 48,
    "execution_start": 1644364816460,
    "id": "AvezTgDLSJu5",
    "outputId": "ac49ff3a-3107-42ee-c5ab-3c3a2be96e9b",
    "source_hash": "6a288b3"
   },
   "outputs": [
    {
     "name": "stdout",
     "output_type": "stream",
     "text": [
      "count   160586.000\n",
      "mean         3.044\n",
      "std          7.428\n",
      "min          1.000\n",
      "25%          1.000\n",
      "50%          1.000\n",
      "75%          2.000\n",
      "max        365.000\n",
      "Name: total_rating_count, dtype: float64\n"
     ]
    }
   ],
   "source": [
    "pd.set_option('display.float_format', lambda x: '%.3f' % x)\n",
    "print(book_rating_count['total_rating_count'].describe())"
   ]
  },
  {
   "cell_type": "code",
   "execution_count": 26,
   "metadata": {
    "cell_id": "00033-950de5eb-dd99-4c1c-a8d7-df70ac668292",
    "colab": {
     "base_uri": "https://localhost:8080/"
    },
    "deepnote_cell_type": "code",
    "deepnote_to_be_reexecuted": false,
    "executionInfo": {
     "elapsed": 133,
     "status": "ok",
     "timestamp": 1642033887042,
     "user": {
      "displayName": "Jeff Holmes",
      "photoUrl": "https://lh3.googleusercontent.com/a-/AOh14Ggqo5MZl_HgRiMcVdAQy5DhTFc2Ko3IQ3M4rC3pSQ=s64",
      "userId": "00012835243853368614"
     },
     "user_tz": 300
    },
    "execution_millis": 138,
    "execution_start": 1644364816507,
    "id": "3jPUY45usfE8",
    "outputId": "e095e94f-c88f-428a-8818-22926857cb97",
    "source_hash": "b0c7dc3f"
   },
   "outputs": [
    {
     "name": "stdout",
     "output_type": "stream",
     "text": [
      "(527556, 3)\n",
      "['userid', 'isbn', 'rating']\n",
      "<class 'pandas.core.frame.DataFrame'>\n",
      "Int64Index: 527556 entries, 1456 to 1147616\n",
      "Data columns (total 3 columns):\n",
      " #   Column  Non-Null Count   Dtype  \n",
      "---  ------  --------------   -----  \n",
      " 0   userid  527556 non-null  int64  \n",
      " 1   isbn    527556 non-null  object \n",
      " 2   rating  527556 non-null  float64\n",
      "dtypes: float64(1), int64(1), object(1)\n",
      "memory usage: 16.1+ MB\n"
     ]
    }
   ],
   "source": [
    "print(ratings.shape)\n",
    "print(list(ratings.columns))\n",
    "ratings.info()"
   ]
  },
  {
   "cell_type": "markdown",
   "metadata": {
    "cell_id": "00035-ccb5e4f6-3439-43b2-875d-12fb2e3173b1",
    "deepnote_cell_type": "markdown",
    "id": "DIz2njJEszqt"
   },
   "source": [
    "### Filter to users in US and Canada only\n",
    "\n",
    "In order to improve computing speed, and not run into the “MemoryError” issue, we limit our user data to those in the US and Canada. \n",
    "\n",
    "Then, we combine user data with the rating data and total rating count data."
   ]
  },
  {
   "cell_type": "code",
   "execution_count": 27,
   "metadata": {
    "cell_id": "00036-abd5516c-0557-47cf-9473-13b667f60b25",
    "colab": {
     "base_uri": "https://localhost:8080/",
     "height": 204
    },
    "deepnote_cell_type": "code",
    "deepnote_output_heights": [
     181
    ],
    "deepnote_to_be_reexecuted": false,
    "executionInfo": {
     "elapsed": 859,
     "status": "ok",
     "timestamp": 1642033993291,
     "user": {
      "displayName": "Jeff Holmes",
      "photoUrl": "https://lh3.googleusercontent.com/a-/AOh14Ggqo5MZl_HgRiMcVdAQy5DhTFc2Ko3IQ3M4rC3pSQ=s64",
      "userId": "00012835243853368614"
     },
     "user_tz": 300
    },
    "execution_millis": 825,
    "execution_start": 1644364816635,
    "id": "a2h3xoW8s5Vn",
    "outputId": "508af7e0-24e8-49fd-b65c-83159cd4970d",
    "source_hash": "297cd2f5"
   },
   "outputs": [
    {
     "data": {
      "text/html": [
       "<div>\n",
       "<style scoped>\n",
       "    .dataframe tbody tr th:only-of-type {\n",
       "        vertical-align: middle;\n",
       "    }\n",
       "\n",
       "    .dataframe tbody tr th {\n",
       "        vertical-align: top;\n",
       "    }\n",
       "\n",
       "    .dataframe thead th {\n",
       "        text-align: right;\n",
       "    }\n",
       "</style>\n",
       "<table border=\"1\" class=\"dataframe\">\n",
       "  <thead>\n",
       "    <tr style=\"text-align: right;\">\n",
       "      <th></th>\n",
       "      <th>userid</th>\n",
       "      <th>isbn</th>\n",
       "      <th>rating</th>\n",
       "      <th>title</th>\n",
       "      <th>total_rating_count</th>\n",
       "      <th>location</th>\n",
       "      <th>age</th>\n",
       "    </tr>\n",
       "  </thead>\n",
       "  <tbody>\n",
       "    <tr>\n",
       "      <th>0</th>\n",
       "      <td>277427</td>\n",
       "      <td>002542730X</td>\n",
       "      <td>10.000</td>\n",
       "      <td>Politically Correct Bedtime Stories: Modern Ta...</td>\n",
       "      <td>82</td>\n",
       "      <td>gilbert, arizona, usa</td>\n",
       "      <td>48.000</td>\n",
       "    </tr>\n",
       "    <tr>\n",
       "      <th>1</th>\n",
       "      <td>3363</td>\n",
       "      <td>002542730X</td>\n",
       "      <td>0.000</td>\n",
       "      <td>Politically Correct Bedtime Stories: Modern Ta...</td>\n",
       "      <td>82</td>\n",
       "      <td>knoxville, tennessee, usa</td>\n",
       "      <td>29.000</td>\n",
       "    </tr>\n",
       "    <tr>\n",
       "      <th>3</th>\n",
       "      <td>12538</td>\n",
       "      <td>002542730X</td>\n",
       "      <td>10.000</td>\n",
       "      <td>Politically Correct Bedtime Stories: Modern Ta...</td>\n",
       "      <td>82</td>\n",
       "      <td>byron, minnesota, usa</td>\n",
       "      <td>18.000</td>\n",
       "    </tr>\n",
       "    <tr>\n",
       "      <th>4</th>\n",
       "      <td>13552</td>\n",
       "      <td>002542730X</td>\n",
       "      <td>0.000</td>\n",
       "      <td>Politically Correct Bedtime Stories: Modern Ta...</td>\n",
       "      <td>82</td>\n",
       "      <td>cordova, tennessee, usa</td>\n",
       "      <td>32.000</td>\n",
       "    </tr>\n",
       "    <tr>\n",
       "      <th>5</th>\n",
       "      <td>16795</td>\n",
       "      <td>002542730X</td>\n",
       "      <td>0.000</td>\n",
       "      <td>Politically Correct Bedtime Stories: Modern Ta...</td>\n",
       "      <td>82</td>\n",
       "      <td>mechanicsville, maryland, usa</td>\n",
       "      <td>47.000</td>\n",
       "    </tr>\n",
       "  </tbody>\n",
       "</table>\n",
       "</div>"
      ],
      "text/plain": [
       "   userid        isbn  rating  \\\n",
       "0  277427  002542730X  10.000   \n",
       "1    3363  002542730X   0.000   \n",
       "3   12538  002542730X  10.000   \n",
       "4   13552  002542730X   0.000   \n",
       "5   16795  002542730X   0.000   \n",
       "\n",
       "                                               title  total_rating_count  \\\n",
       "0  Politically Correct Bedtime Stories: Modern Ta...                  82   \n",
       "1  Politically Correct Bedtime Stories: Modern Ta...                  82   \n",
       "3  Politically Correct Bedtime Stories: Modern Ta...                  82   \n",
       "4  Politically Correct Bedtime Stories: Modern Ta...                  82   \n",
       "5  Politically Correct Bedtime Stories: Modern Ta...                  82   \n",
       "\n",
       "                        location    age  \n",
       "0          gilbert, arizona, usa 48.000  \n",
       "1      knoxville, tennessee, usa 29.000  \n",
       "3          byron, minnesota, usa 18.000  \n",
       "4        cordova, tennessee, usa 32.000  \n",
       "5  mechanicsville, maryland, usa 47.000  "
      ]
     },
     "execution_count": 27,
     "metadata": {},
     "output_type": "execute_result"
    }
   ],
   "source": [
    "# Filter to users in US and Canada only\n",
    "combined = rating_with_total_count.merge(users_df, left_on = 'userid', right_on = 'userid', how = 'left')\n",
    "us_canada_user_rating = combined[combined['location'].str.contains(\"usa|canada\")]\n",
    "# us_canada_user_rating = us_canada_user_rating.drop(['author'], axis='columns')\n",
    "us_canada_user_rating.head()"
   ]
  },
  {
   "cell_type": "markdown",
   "metadata": {
    "cell_id": "00037-0a35ef7f-bde5-47d1-a5c8-1fe272d6dee6",
    "deepnote_cell_type": "markdown",
    "id": "Pz8-griqseg0"
   },
   "source": [
    "## Implementing kNN"
   ]
  },
  {
   "cell_type": "markdown",
   "metadata": {
    "cell_id": "00038-0834ff8d-c157-4156-bc80-95ff8bbb895a",
    "deepnote_cell_type": "markdown",
    "id": "9W-oCHjKvVMl"
   },
   "source": [
    "We convert our table to a 2D matrix and fill the missing values with zeros (since we will calculate distances between rating vectors).\n",
    "\n",
    "Then, we transform the values (ratings) of the matrix dataframe into a scipy sparse matrix for more efficient calculations.\n",
    "\n",
    "#### Finding the Nearest Neighbors\n",
    "\n",
    "We use unsupervised algorithms with `sklearn.neighbors`. \n",
    "\n",
    "The algorithm we use to compute the nearest neighbors is brute and we specify “metric=cosine” so that the algorithm will calculate the cosine similarity between rating vectors. \n",
    "\n",
    "Finally, we fit the model."
   ]
  },
  {
   "cell_type": "code",
   "execution_count": 28,
   "metadata": {
    "cell_id": "2e68c2aa-1225-42d0-b870-db0ff16ae272",
    "deepnote_cell_type": "code",
    "deepnote_output_heights": [
     21.1875
    ],
    "deepnote_to_be_reexecuted": false,
    "execution_millis": 4305,
    "execution_start": 1644364817458,
    "source_hash": "c732c072",
    "tags": []
   },
   "outputs": [
    {
     "data": {
      "text/plain": [
       "NearestNeighbors(algorithm='brute', metric='cosine')"
      ]
     },
     "execution_count": 28,
     "metadata": {},
     "output_type": "execute_result"
    }
   ],
   "source": [
    "us_canada_user_rating = us_canada_user_rating.drop_duplicates(['userid', 'title'])\n",
    "us_canada_user_rating_pivot = us_canada_user_rating.pivot(index = 'title', columns = 'userid', values = 'rating').fillna(0)\n",
    "us_canada_user_rating_matrix = csr_matrix(us_canada_user_rating_pivot.values)\n",
    "\n",
    "from sklearn.neighbors import NearestNeighbors\n",
    "\n",
    "model_knn = NearestNeighbors(metric = 'cosine', algorithm = 'brute')\n",
    "model_knn.fit(us_canada_user_rating_matrix)"
   ]
  },
  {
   "cell_type": "markdown",
   "metadata": {
    "cell_id": "00041-b6580dbb-b914-4d60-adc4-cb309ebb7484",
    "deepnote_cell_type": "markdown",
    "id": "CXhbFp-ys3zN"
   },
   "source": [
    "## Test our model and make some recommendations\n",
    "\n",
    "In this step, the kNN algorithm measures distance to determine the “closeness” of instances. \n",
    "\n",
    "Then, it classifies an instance by finding its nearest neighbors and picks the most popular class among the neighbors."
   ]
  },
  {
   "cell_type": "code",
   "execution_count": 29,
   "metadata": {
    "cell_id": "ef60a3eb-ad2b-4a32-a5ee-185e0d48c29d",
    "deepnote_cell_type": "code",
    "deepnote_to_be_reexecuted": false,
    "execution_millis": 5,
    "execution_start": 1644364821751,
    "source_hash": "24766e13",
    "tags": []
   },
   "outputs": [],
   "source": [
    "# query_index = np.random.choice(us_canada_user_rating_pivot.shape[0])\n",
    "# distances, indices = model_knn.kneighbors(us_canada_user_rating_pivot.iloc[query_index, :].reshape(1, -1), n_neighbors = 6)\n",
    "\n",
    "# for i in range(0, len(distances.flatten())):\n",
    "#     if i == 0:\n",
    "#         print('Recommendations for {0}:\\n'.format(us_canada_user_rating_pivot.index[query_index]))\n",
    "#     else:\n",
    "#         print('{0}: {1}, with distance of {2}:'.format(i, us_canada_user_rating_pivot.index[indices.flatten()[i]], distances.flatten()[i]))"
   ]
  },
  {
   "cell_type": "code",
   "execution_count": 30,
   "metadata": {
    "cell_id": "a5f925aa-8c3d-4e1c-9bda-76c8d0a709ef",
    "deepnote_cell_type": "code",
    "deepnote_output_heights": [
     21.1875
    ],
    "deepnote_to_be_reexecuted": false,
    "execution_millis": 518,
    "execution_start": 1644364821762,
    "source_hash": "116197e0",
    "tags": []
   },
   "outputs": [
    {
     "name": "stdout",
     "output_type": "stream",
     "text": [
      "query_index: 109912\n",
      "(1, 734)\n",
      "Recommendations for The Green Mile: Coffey's Hands (Green Mile Series):\n",
      "\n",
      "1: The Green Mile: Night Journey (Green Mile Series), with distance of 0.12578625288073897:\n",
      "2: The Two Dead Girls (Green Mile Series), with distance of 0.24189525423576685:\n",
      "3: The Green Mile: The Bad Death of Eduard Delacroix (Green Mile Series), with distance of 0.2461088756486024:\n",
      "4: The Green Mile: The Mouse on the Mile (Green Mile Series), with distance of 0.27170038776068084:\n",
      "5: The Green Mile: Coffey on the Mile (Green Mile Series), with distance of 0.4094509270584026:\n"
     ]
    }
   ],
   "source": [
    "ur_pivot = us_canada_user_rating_pivot.copy()\n",
    "\n",
    "x = \"The Green Mile: Coffey's Hands (Green Mile Series)\"\n",
    "query = ur_pivot[ur_pivot.index.str.startswith(x)]\n",
    "query_index = np.where(ur_pivot.index == x)\n",
    "query_index = query_index[0][0]\n",
    "print(f\"query_index: {query_index}\")\n",
    "\n",
    "query_s = ur_pivot.iloc[query_index, :]\n",
    "arr = query_s.to_numpy().reshape(1, -1)\n",
    "print(arr.shape)\n",
    "\n",
    "distances, indices = model_knn.kneighbors(arr, n_neighbors = 6)\n",
    "\n",
    "for i in range(0, len(distances.flatten())):\n",
    "    if i == 0:\n",
    "        print('Recommendations for {0}:\\n'.format(ur_pivot.index[query_index]))\n",
    "    else:\n",
    "        print('{0}: {1}, with distance of {2}:'.format(i, ur_pivot.index[indices.flatten()[i]], distances.flatten()[i]))"
   ]
  },
  {
   "cell_type": "code",
   "execution_count": 31,
   "metadata": {
    "cell_id": "00046-04f446fd-a06d-4732-bba0-d4c988e8b717",
    "colab": {
     "base_uri": "https://localhost:8080/"
    },
    "deepnote_cell_type": "code",
    "deepnote_output_heights": [
     null,
     21.1875
    ],
    "deepnote_to_be_reexecuted": false,
    "executionInfo": {
     "elapsed": 326,
     "status": "ok",
     "timestamp": 1642034097076,
     "user": {
      "displayName": "Jeff Holmes",
      "photoUrl": "https://lh3.googleusercontent.com/a-/AOh14Ggqo5MZl_HgRiMcVdAQy5DhTFc2Ko3IQ3M4rC3pSQ=s64",
      "userId": "00012835243853368614"
     },
     "user_tz": 300
    },
    "execution_millis": 93,
    "execution_start": 1644364940397,
    "id": "vv3E_O_-s8Sm",
    "outputId": "494fcd24-526d-438e-b883-008e58c78b4b",
    "source_hash": "7801e43b"
   },
   "outputs": [
    {
     "name": "stdout",
     "output_type": "stream",
     "text": [
      "row_index: 109912\n",
      "series name: The Green Mile: Coffey's Hands (Green Mile Series)\n"
     ]
    }
   ],
   "source": [
    "# Find row with matching title\n",
    "x = \"The Green Mile: Coffey's Hands (Green Mile Series)\"\n",
    "query = ur_pivot[ur_pivot.index.str.startswith(x)]\n",
    "row_index = np.where([ur_pivot.index == x])[1][0]\n",
    "query_s = ur_pivot.iloc[row_index]\n",
    "print(f\"row_index: {row_index}\")\n",
    "print(f\"series name: {ur_pivot.iloc[row_index].name}\")"
   ]
  }
 ],
 "metadata": {
  "accelerator": "GPU",
  "colab": {
   "collapsed_sections": [],
   "machine_shape": "hm",
   "name": "fcc_book_recommendation_knn.ipynb",
   "provenance": [
    {
     "file_id": "https://github.com/freeCodeCamp/boilerplate-book-recommendation-engine/blob/master/fcc_book_recommendation_knn.ipynb",
     "timestamp": 1617662362500
    }
   ]
  },
  "deepnote": {},
  "deepnote_execution_queue": [],
  "deepnote_notebook_id": "d92cda43-9775-441a-a9b2-6c399a706b72",
  "kernelspec": {
   "display_name": "Python 3 (ipykernel)",
   "language": "python",
   "name": "python3"
  },
  "language_info": {
   "codemirror_mode": {
    "name": "ipython",
    "version": 3
   },
   "file_extension": ".py",
   "mimetype": "text/x-python",
   "name": "python",
   "nbconvert_exporter": "python",
   "pygments_lexer": "ipython3",
   "version": "3.9.7"
  }
 },
 "nbformat": 4,
 "nbformat_minor": 4
}
